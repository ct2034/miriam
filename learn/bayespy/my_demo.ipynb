{
 "metadata": {
  "kernelspec": {
   "display_name": "Python 3",
   "language": "python",
   "name": "python3"
  },
  "language_info": {
   "codemirror_mode": {
    "name": "ipython",
    "version": 3
   },
   "file_extension": ".py",
   "mimetype": "text/x-python",
   "name": "python",
   "nbconvert_exporter": "python",
   "pygments_lexer": "ipython3",
   "version": "3.5.2"
  },
  "name": ""
 },
 "nbformat": 3,
 "nbformat_minor": 0,
 "worksheets": [
  {
   "cells": [
    {
     "cell_type": "code",
     "collapsed": false,
     "input": [
      "import numpy as np\n",
      "np.random.seed(42)\n",
      "\n",
      "import matplotlib.pyplot as plt\n",
      "plt.style.use('bmh')\n",
      "%matplotlib inline\n",
      "\n",
      "import bayespy\n",
      "import bayespy.plot as bpplt\n",
      "print(bayespy.__version__)"
     ],
     "language": "python",
     "metadata": {},
     "outputs": [],
     "prompt_number": null
    },
    {
     "cell_type": "markdown",
     "metadata": {},
     "source": [
      "__Data__"
     ]
    },
    {
     "cell_type": "code",
     "collapsed": false,
     "input": [
      "x = np.arange(1000)\n",
      "y = np.random.normal(loc=100, scale=5, size=len(x))\n",
      "plt.plot(x,y,'.')\n",
      "plt.figure()\n",
      "_ = plt.hist(y)"
     ],
     "language": "python",
     "metadata": {},
     "outputs": [],
     "prompt_number": null
    },
    {
     "cell_type": "code",
     "collapsed": false,
     "input": [
      "mu = bayespy.nodes.GaussianARD(10, 1e-6)\n",
      "tau = bayespy.nodes.Gamma(13, 2)\n",
      "Y = bayespy.nodes.GaussianARD(mu, tau, plates=(50,))\n",
      "Q = bayespy.inference.VB(mu, tau, Y)"
     ],
     "language": "python",
     "metadata": {},
     "outputs": [],
     "prompt_number": null
    },
    {
     "cell_type": "code",
     "collapsed": false,
     "input": [
      "def plot(_mu=mu, _tau=tau, _Y=Y):\n",
      "    bpplt.pdf(_mu, np.linspace(0, 200, num=1000), name=r'\\mu')\n",
      "    plt.figure()\n",
      "    bpplt.pdf(_tau, np.linspace(.001, 5, num=1000), name=r'\\tau')\n",
      "    plt.figure()\n",
      "    _ = bpplt.pdf(_Y, np.linspace(0, 200, num=1000), name=r'Y')\n",
      "plot()"
     ],
     "language": "python",
     "metadata": {},
     "outputs": [],
     "prompt_number": null
    },
    {
     "cell_type": "code",
     "collapsed": false,
     "input": [
      "Y.observe(y[0:50])\n",
      "print(np.mean(y[0:50]))\n",
      "Q.update(repeat=2000)\n",
      "plot()"
     ],
     "language": "python",
     "metadata": {},
     "outputs": [],
     "prompt_number": null
    },
    {
     "cell_type": "code",
     "collapsed": false,
     "input": [
      "mu2 = Y\n",
      "tau2 = bayespy.nodes.Gamma(13, 2)\n",
      "Y2 = bayespy.nodes.GaussianARD(mu2, tau2)\n",
      "plot(mu2, tau2, Y2)"
     ],
     "language": "python",
     "metadata": {},
     "outputs": [],
     "prompt_number": null
    },
    {
     "cell_type": "code",
     "collapsed": true,
     "input": [
      "Y2.observe(y[50:100])\n",
      "\n",
      "Q2 = bayespy.inference.VB(mu2, tau2, Y2)\n",
      "Q2.update(repeat=2000)\n",
      "\n",
      "plot(mu2, tau2, Y2)"
     ],
     "language": "python",
     "metadata": {},
     "outputs": [],
     "prompt_number": null
    }
   ],
   "metadata": {}
  }
 ]
}
