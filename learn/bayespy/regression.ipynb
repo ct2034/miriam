{
 "metadata": {
  "kernelspec": {
   "display_name": "Python 3",
   "language": "python",
   "name": "python3"
  },
  "language_info": {
   "codemirror_mode": {
    "name": "ipython",
    "version": 3
   },
   "file_extension": ".py",
   "mimetype": "text/x-python",
   "name": "python",
   "nbconvert_exporter": "python",
   "pygments_lexer": "ipython3",
   "version": "3.5.2"
  },
  "name": ""
 },
 "nbformat": 3,
 "nbformat_minor": 0,
 "worksheets": [
  {
   "cells": [
    {
     "cell_type": "markdown",
     "metadata": {},
     "source": [
      "*This example is a Jupyter notebook. You can download it or run it interactively on mybinder.org.*\n",
      "\n",
      "# Linear regression\n",
      "\n",
      "## Data\n",
      "\n",
      "The true parameters of the linear regression:"
     ]
    },
    {
     "cell_type": "code",
     "collapsed": false,
     "input": [
      "import numpy as np\n",
      "import matplotlib.pyplot as plt\n",
      "k = 2 # slope\n",
      "c = 5 # bias\n",
      "s = 15 # noise standard deviation"
     ],
     "language": "python",
     "metadata": {},
     "outputs": [],
     "prompt_number": null
    },
    {
     "cell_type": "code",
     "collapsed": true,
     "input": [
      "# This cell content is hidden from Sphinx-generated documentation\n",
      "%matplotlib inline\n",
      "np.random.seed(42)"
     ],
     "language": "python",
     "metadata": {
      "nbsphinx": "hidden"
     },
     "outputs": [],
     "prompt_number": null
    },
    {
     "cell_type": "markdown",
     "metadata": {},
     "source": [
      "Generate data:"
     ]
    },
    {
     "cell_type": "code",
     "collapsed": false,
     "input": [
      "x = np.arange(10)\n",
      "y = k*x + c + np.random.normal(loc=0, scale=s, size=len(x))\n",
      "_ = plt.plot(x,y,'.')"
     ],
     "language": "python",
     "metadata": {},
     "outputs": [],
     "prompt_number": null
    },
    {
     "cell_type": "markdown",
     "metadata": {},
     "source": [
      "## Model\n",
      "\n",
      "The regressors, that is, the input data:"
     ]
    },
    {
     "cell_type": "code",
     "collapsed": true,
     "input": [
      "X = np.vstack([x, np.ones(len(x))]).T"
     ],
     "language": "python",
     "metadata": {},
     "outputs": [],
     "prompt_number": null
    },
    {
     "cell_type": "markdown",
     "metadata": {},
     "source": [
      "Note that we added a column of ones to the regressor matrix for the bias term. We model the slope and the bias term in the same node so we do not factorize between them:"
     ]
    },
    {
     "cell_type": "code",
     "collapsed": false,
     "input": [
      "from bayespy.nodes import GaussianARD\n",
      "B = GaussianARD(0, 1e-6, shape=(2,))"
     ],
     "language": "python",
     "metadata": {},
     "outputs": [],
     "prompt_number": null
    },
    {
     "cell_type": "markdown",
     "metadata": {},
     "source": [
      "The first element is the slope which multiplies x and the second element is the bias term which multiplies the constant ones. Now we compute the dot product of X and B:"
     ]
    },
    {
     "cell_type": "code",
     "collapsed": true,
     "input": [
      "from bayespy.nodes import SumMultiply\n",
      "F = SumMultiply('i,i', B, X)"
     ],
     "language": "python",
     "metadata": {},
     "outputs": [],
     "prompt_number": null
    },
    {
     "cell_type": "markdown",
     "metadata": {},
     "source": [
      "The noise parameter:"
     ]
    },
    {
     "cell_type": "code",
     "collapsed": true,
     "input": [
      "from bayespy.nodes import Gamma\n",
      "tau = Gamma(1e-3, 1e-3)"
     ],
     "language": "python",
     "metadata": {},
     "outputs": [],
     "prompt_number": null
    },
    {
     "cell_type": "markdown",
     "metadata": {},
     "source": [
      "The noisy observations:"
     ]
    },
    {
     "cell_type": "code",
     "collapsed": true,
     "input": [
      "Y = GaussianARD(F, tau)"
     ],
     "language": "python",
     "metadata": {},
     "outputs": [],
     "prompt_number": null
    },
    {
     "cell_type": "markdown",
     "metadata": {},
     "source": [
      "## Inference\n",
      "\n",
      "Observe the data:"
     ]
    },
    {
     "cell_type": "code",
     "collapsed": true,
     "input": [
      "Y.observe(y)"
     ],
     "language": "python",
     "metadata": {},
     "outputs": [],
     "prompt_number": null
    },
    {
     "cell_type": "markdown",
     "metadata": {},
     "source": [
      "Construct the variational Bayesian (VB) inference engine by giving all stochastic nodes:"
     ]
    },
    {
     "cell_type": "code",
     "collapsed": true,
     "input": [
      "from bayespy.inference import VB\n",
      "Q = VB(Y, B, tau)"
     ],
     "language": "python",
     "metadata": {},
     "outputs": [],
     "prompt_number": null
    },
    {
     "cell_type": "markdown",
     "metadata": {},
     "source": [
      "Iterate until convergence:"
     ]
    },
    {
     "cell_type": "code",
     "collapsed": false,
     "input": [
      "Q.update(repeat=1000)"
     ],
     "language": "python",
     "metadata": {},
     "outputs": [],
     "prompt_number": null
    },
    {
     "cell_type": "markdown",
     "metadata": {},
     "source": [
      "## Results\n",
      "\n",
      "Create a simple predictive model for new inputs:"
     ]
    },
    {
     "cell_type": "code",
     "collapsed": true,
     "input": [
      "xh = np.linspace(-5, 15, 100)\n",
      "Xh = np.vstack([xh, np.ones(len(xh))]).T\n",
      "Fh = SumMultiply('i,i', B, Xh)"
     ],
     "language": "python",
     "metadata": {},
     "outputs": [],
     "prompt_number": null
    },
    {
     "cell_type": "markdown",
     "metadata": {},
     "source": [
      "Note that we use the learned node B but create a new regressor array for predictions. Plot the predictive distribution of noiseless function values:"
     ]
    },
    {
     "cell_type": "code",
     "collapsed": false,
     "input": [
      "import bayespy.plot as bpplt\n",
      "bpplt.pyplot.figure()\n",
      "bpplt.plot(Fh, x=xh, scale=2)\n",
      "bpplt.plot(y, x=x, color='r', marker='x', linestyle='None')\n",
      "bpplt.plot(k*xh+c, x=xh, color='r');"
     ],
     "language": "python",
     "metadata": {},
     "outputs": [],
     "prompt_number": null
    },
    {
     "cell_type": "markdown",
     "metadata": {},
     "source": [
      "Note that the above plot shows two standard deviation of the posterior of the noiseless function, thus the data points may lie well outside this range. The red line shows the true linear function. Next, plot the distribution of the noise parameter and the true value, 2\u22122=0.25:"
     ]
    },
    {
     "cell_type": "code",
     "collapsed": false,
     "input": [
      "bpplt.pyplot.figure()\n",
      "bpplt.pdf(tau, np.linspace(1e-6,1,100), color='k')\n",
      "bpplt.pyplot.axvline(s**(-2), color='r');"
     ],
     "language": "python",
     "metadata": {},
     "outputs": [],
     "prompt_number": null
    },
    {
     "cell_type": "markdown",
     "metadata": {},
     "source": [
      "The noise level is captured quite well, although the posterior has more mass on larger noise levels (smaller precision parameter values). Finally, plot the distribution of the regression parameters and mark the true value:"
     ]
    },
    {
     "cell_type": "code",
     "collapsed": false,
     "input": [
      "bpplt.pyplot.figure();\n",
      "bpplt.contour(B, np.linspace(1.5,2.5,1000), np.linspace(1,9,1000),\n",
      "              n=10, colors='k');\n",
      "bpplt.plot(c, x=k, color='r', marker='x', linestyle='None',\n",
      "           markersize=10, markeredgewidth=2)\n",
      "bpplt.pyplot.xlabel(r'$k$');\n",
      "bpplt.pyplot.ylabel(r'$c$');"
     ],
     "language": "python",
     "metadata": {},
     "outputs": [],
     "prompt_number": null
    },
    {
     "cell_type": "markdown",
     "metadata": {},
     "source": [
      "In this case, the true parameters are captured well by the posterior distribution.\n",
      "\n",
      "## Improving accuracy\n",
      "\n",
      "The model can be improved by not factorizing between B and tau but learning their joint posterior distribution. This requires a slight modification to the model by using GaussianGammaISO node:"
     ]
    },
    {
     "cell_type": "code",
     "collapsed": false,
     "input": [
      "from bayespy.nodes import GaussianGamma\n",
      "B_tau = GaussianGamma(np.zeros(2), 1e-6*np.identity(2), 1e-3, 1e-3)"
     ],
     "language": "python",
     "metadata": {},
     "outputs": [],
     "prompt_number": null
    },
    {
     "cell_type": "markdown",
     "metadata": {},
     "source": [
      "This node contains both the regression parameter vector and the noise parameter. We compute the dot product similarly as before:"
     ]
    },
    {
     "cell_type": "code",
     "collapsed": true,
     "input": [
      "F_tau = SumMultiply('i,i', B_tau, X)"
     ],
     "language": "python",
     "metadata": {},
     "outputs": [],
     "prompt_number": null
    },
    {
     "cell_type": "markdown",
     "metadata": {},
     "source": [
      "However, Y is constructed as follows:"
     ]
    },
    {
     "cell_type": "code",
     "collapsed": true,
     "input": [
      "Y = GaussianARD(F_tau, 1)"
     ],
     "language": "python",
     "metadata": {},
     "outputs": [],
     "prompt_number": null
    },
    {
     "cell_type": "markdown",
     "metadata": {},
     "source": [
      "Because the noise parameter is already in F_tau we can give a constant one as the second argument. The total noise parameter for Y is the product of the noise parameter in F_tau and one. Now, inference is run similarly as before:"
     ]
    },
    {
     "cell_type": "code",
     "collapsed": false,
     "input": [
      "Y.observe(y)\n",
      "Q = VB(Y, B_tau)\n",
      "Q.update(repeat=1000)"
     ],
     "language": "python",
     "metadata": {},
     "outputs": [],
     "prompt_number": null
    },
    {
     "cell_type": "markdown",
     "metadata": {},
     "source": [
      "Note that the method converges immediately. This happens because there is only one unobserved stochastic node so there is no need for iteration and the result is actually the exact true posterior distribution, not an approximation. Currently, the main drawback of using this approach is that BayesPy does not yet contain any plotting utilities for nodes that contain both Gaussian and gamma variables jointly.\n",
      "\n",
      "## Further extensions\n",
      "\n",
      "The approach discussed in this example can easily be extended to non-linear regression and multivariate regression. For non-linear regression, the inputs are first transformed by some known non-linear functions and then linear regression is applied to this transformed data. For multivariate regression, X and B are concatenated appropriately: If there are more regressors, add more columns to both X and B. If there are more output dimensions, add plates to B."
     ]
    },
    {
     "cell_type": "code",
     "collapsed": true,
     "input": [],
     "language": "python",
     "metadata": {},
     "outputs": [],
     "prompt_number": null
    }
   ],
   "metadata": {}
  }
 ]
}
