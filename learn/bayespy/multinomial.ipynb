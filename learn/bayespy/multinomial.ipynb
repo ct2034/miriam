{
 "metadata": {
  "celltoolbar": "Edit Metadata",
  "kernelspec": {
   "display_name": "Python 3",
   "language": "python",
   "name": "python3"
  },
  "language_info": {
   "codemirror_mode": {
    "name": "ipython",
    "version": 3
   },
   "file_extension": ".py",
   "mimetype": "text/x-python",
   "name": "python",
   "nbconvert_exporter": "python",
   "pygments_lexer": "ipython3",
   "version": "3.5.1"
  },
  "name": ""
 },
 "nbformat": 3,
 "nbformat_minor": 0,
 "worksheets": [
  {
   "cells": [
    {
     "cell_type": "code",
     "collapsed": false,
     "input": [
      "# Some setting up stuff. This cell is hidden from the Sphinx-rendered documentation.\n",
      "%load_ext tikzmagic\n",
      "%matplotlib inline\n",
      "%config InlineBackend.figure_format = 'png'\n",
      "np.random.seed(42)"
     ],
     "language": "python",
     "metadata": {
      "nbsphinx": "hidden"
     },
     "outputs": [],
     "prompt_number": null
    },
    {
     "cell_type": "markdown",
     "metadata": {},
     "source": [
      "# Multinomial distribution: bags of marbles\n",
      "\n",
      "*Written by: Deebul Nair (2016)*\n",
      "\n",
      "*Edited by: Jaakko Luttinen (2016)*\n",
      "\n",
      "*Inspired by https://probmods.org/hierarchical-models.html*\n",
      "\n",
      "\n",
      "## Using multinomial distribution\n",
      "\n",
      "There are several bags of coloured marbles, each bag containing different amounts of each color. Marbles are drawn at random with replacement from the bags. The goal is to predict the distribution of the marbles in each bag.\n",
      "\n",
      "### Data generation\n",
      "\n",
      "Let us create a dataset. First, decide the number of bags, colors and trials (i.e., draws):"
     ]
    },
    {
     "cell_type": "code",
     "collapsed": true,
     "input": [
      "n_colors = 5  # number of possible colors\n",
      "n_bags = 3    # number of bags\n",
      "n_trials = 20 # number of draws from each bag"
     ],
     "language": "python",
     "metadata": {},
     "outputs": [],
     "prompt_number": null
    },
    {
     "cell_type": "markdown",
     "metadata": {},
     "source": [
      "Generate randomly a color distribution for each bag:"
     ]
    },
    {
     "cell_type": "code",
     "collapsed": true,
     "input": [
      "from bayespy import nodes\n",
      "import numpy as np\n",
      "\n",
      "p_colors = nodes.Dirichlet(n_colors * [0.5], plates=(n_bags,)).random()"
     ],
     "language": "python",
     "metadata": {},
     "outputs": [],
     "prompt_number": null
    },
    {
     "cell_type": "markdown",
     "metadata": {},
     "source": [
      "The concentration parameter $\\begin{bmatrix}0.5 & \\ldots & 0.5\\end{bmatrix}$ makes the distributions very non-uniform within each bag, that is, the amount of each color can be very different. We can visualize the probability distribution of the colors in each bag:"
     ]
    },
    {
     "cell_type": "code",
     "collapsed": false,
     "input": [
      "import bayespy.plot as bpplt\n",
      "bpplt.hinton(p_colors)\n",
      "bpplt.pyplot.title(\"Original probability distributions of colors in the bags\");"
     ],
     "language": "python",
     "metadata": {},
     "outputs": [],
     "prompt_number": null
    },
    {
     "cell_type": "markdown",
     "metadata": {},
     "source": [
      "As one can see, the color distributions aren't very uniform in any of the bags because of the small concentration parameter. Next, make the ball draws:"
     ]
    },
    {
     "cell_type": "code",
     "collapsed": false,
     "input": [
      "marbles = nodes.Multinomial(n_trials, p_colors).random()\n",
      "print(marbles)"
     ],
     "language": "python",
     "metadata": {},
     "outputs": [],
     "prompt_number": null
    },
    {
     "cell_type": "markdown",
     "metadata": {},
     "source": [
      "### Model\n",
      "\n",
      "We will use the same generative model for estimating the color distributions in the bags as we did for generating the data:\n",
      "$$\n",
      "\\theta_i \\sim \\mathrm{Dirichlet}\\left(\\begin{bmatrix} 0.5 & \\ldots & 0.5 \\end{bmatrix}\\right)\n",
      "$$\n",
      "\n",
      "$$\n",
      "y_i | \\theta_i \\sim \\mathrm{Multinomial}(\\theta_i)\n",
      "$$\n",
      "\n",
      "The simple graphical model can be drawn as below:"
     ]
    },
    {
     "cell_type": "code",
     "collapsed": false,
     "input": [
      "%%tikz -f svg\n",
      "\\usetikzlibrary{bayesnet}\n",
      "\\node [latent] (theta) {$\\theta$};\n",
      "\\node [below=of theta, obs] (y) {$y$};\n",
      "\\edge {theta} {y};\n",
      "\\plate {trials} {(y)} {trials};\n",
      "\\plate {bags} {(theta)(y)(trials)} {bags};"
     ],
     "language": "python",
     "metadata": {},
     "outputs": [],
     "prompt_number": null
    },
    {
     "cell_type": "markdown",
     "metadata": {},
     "source": [
      "The model is constructed equivalently to the generative model (except we don't use the nodes to draw random samples):"
     ]
    },
    {
     "cell_type": "code",
     "collapsed": false,
     "input": [
      "theta = nodes.Dirichlet(n_colors * [0.5], plates=(n_bags,))\n",
      "y = nodes.Multinomial(n_trials, theta)"
     ],
     "language": "python",
     "metadata": {},
     "outputs": [],
     "prompt_number": null
    },
    {
     "cell_type": "markdown",
     "metadata": {},
     "source": [
      "Data is provided by using the `observe` method:"
     ]
    },
    {
     "cell_type": "code",
     "collapsed": false,
     "input": [
      "y.observe(marbles)"
     ],
     "language": "python",
     "metadata": {},
     "outputs": [],
     "prompt_number": null
    },
    {
     "cell_type": "heading",
     "level": 3,
     "metadata": {},
     "source": [
      "Performing Inference"
     ]
    },
    {
     "cell_type": "code",
     "collapsed": false,
     "input": [
      "from bayespy.inference import VB\n",
      "Q = VB(y, theta)\n",
      "Q.update(repeat=1000)"
     ],
     "language": "python",
     "metadata": {},
     "outputs": [],
     "prompt_number": null
    },
    {
     "cell_type": "code",
     "collapsed": false,
     "input": [
      "import bayespy.plot as bpplt\n",
      "bpplt.hinton(theta)\n",
      "bpplt.pyplot.title(\"Learned distribution of colors\")\n",
      "bpplt.pyplot.show()"
     ],
     "language": "python",
     "metadata": {},
     "outputs": [],
     "prompt_number": null
    },
    {
     "cell_type": "markdown",
     "metadata": {},
     "source": [
      "## Using categorical Distribution\n",
      "\n",
      "The same problem can be solved with categorical distirbution. Categorical distribution is similar to the Multinomical distribution expect for the output it produces.\n",
      "\n",
      "Multinomial and Categorical infer the number of colors from the size of the probability vector (p_theta)\n",
      "Categorical data is in a form where the value tells the index of the color that was picked in a trial. so if n_colors=5, Categorical data could be [4, 4, 0, 1, 1, 2, 4] if the number of trials was 7. \n",
      "\n",
      "multinomial data is such that you have a vector where each element tells how many times that color was picked, for instance, [3, 0, 4] if you have 7 trials.\n",
      "\n",
      "So there is significant difference in Multinomial and Categorical data . Depending on the data you have the choice of the Distribution has to be made.\n",
      "\n",
      "Now we can see an example of Hierarchical model usign categorical data generator and model"
     ]
    },
    {
     "cell_type": "code",
     "collapsed": false,
     "input": [
      "from bayespy import nodes\n",
      "import numpy as np\n",
      "\n",
      "#The marbles drawn based on the distribution for 10 trials\n",
      "# Using same p_color distribution as in the above example\n",
      "draw_marbles = nodes.Categorical(p_colors,\n",
      "                                 plates=(n_trials, n_bags)).random()"
     ],
     "language": "python",
     "metadata": {},
     "outputs": [],
     "prompt_number": null
    },
    {
     "cell_type": "heading",
     "level": 3,
     "metadata": {},
     "source": [
      "Model"
     ]
    },
    {
     "cell_type": "code",
     "collapsed": false,
     "input": [
      "from bayespy import nodes\n",
      "import numpy as np\n",
      "\n",
      "p_theta = nodes.Dirichlet(np.ones(n_colors),\n",
      "                          plates=(n_bags,),\n",
      "                          name='p_theta')\n",
      "\n",
      "bag_model = nodes.Categorical(p_theta,\n",
      "                        plates=(n_trials, n_bags),\n",
      "                        name='bag_model')"
     ],
     "language": "python",
     "metadata": {},
     "outputs": [],
     "prompt_number": null
    },
    {
     "cell_type": "heading",
     "level": 3,
     "metadata": {},
     "source": [
      "Inference"
     ]
    },
    {
     "cell_type": "code",
     "collapsed": true,
     "input": [
      "bag_model.observe(draw_marbles)"
     ],
     "language": "python",
     "metadata": {},
     "outputs": [],
     "prompt_number": null
    },
    {
     "cell_type": "code",
     "collapsed": true,
     "input": [
      "from bayespy.inference import VB\n",
      "Q = VB(bag_model, p_theta)"
     ],
     "language": "python",
     "metadata": {},
     "outputs": [],
     "prompt_number": null
    },
    {
     "cell_type": "code",
     "collapsed": false,
     "input": [
      "Q.update(repeat=1000)"
     ],
     "language": "python",
     "metadata": {},
     "outputs": [],
     "prompt_number": null
    },
    {
     "cell_type": "code",
     "collapsed": false,
     "input": [
      "%matplotlib inline\n",
      "import bayespy.plot as bpplt\n",
      "bpplt.hinton(p_theta)\n",
      "bpplt.pyplot.tight_layout()\n",
      "bpplt.pyplot.title(\"Learned Distribution of colors using Categorical Distribution\")\n",
      "bpplt.pyplot.show()"
     ],
     "language": "python",
     "metadata": {},
     "outputs": [],
     "prompt_number": null
    }
   ],
   "metadata": {}
  }
 ]
}
