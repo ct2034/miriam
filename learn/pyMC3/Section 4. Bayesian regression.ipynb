{
 "metadata": {
  "kernelspec": {
   "display_name": "Python 3",
   "language": "python",
   "name": "python3"
  },
  "language_info": {
   "codemirror_mode": {
    "name": "ipython",
    "version": 3
   },
   "file_extension": ".py",
   "mimetype": "text/x-python",
   "name": "python",
   "nbconvert_exporter": "python",
   "pygments_lexer": "ipython3",
   "version": "3.5.2"
  },
  "name": ""
 },
 "nbformat": 3,
 "nbformat_minor": 0,
 "worksheets": [
  {
   "cells": [
    {
     "cell_type": "markdown",
     "metadata": {},
     "source": [
      "## Section 4: Bayesian Regression\n",
      "\n",
      "Previously, we addressed the question: \"is my chat response time effected by who I'm talking to?\". We have estimated model parameters for each individual I've had conversations with. But sometimes we want to understand the effect of more factors such as \"day of week,\" \"time of day,\" etc. We can use GLM (generalized linear models) to better understand the effects of these factors."
     ]
    },
    {
     "cell_type": "code",
     "collapsed": false,
     "input": [
      "import matplotlib.pyplot as plt\n",
      "import numpy as np\n",
      "import pandas as pd\n",
      "import pymc3 as pm\n",
      "import scipy\n",
      "import scipy.stats as stats\n",
      "import seaborn.apionly as sns\n",
      "import statsmodels.api as sm\n",
      "import theano.tensor as tt\n",
      "\n",
      "from sklearn import preprocessing\n",
      "\n",
      "%matplotlib inline\n",
      "plt.style.use('bmh')\n",
      "colors = ['#348ABD', '#A60628', '#7A68A6', '#467821', '#D55E00', \n",
      "          '#CC79A7', '#56B4E9', '#009E73', '#F0E442', '#0072B2']\n",
      "\n",
      "messages = pd.read_csv('data/hangout_chat_data.csv')"
     ],
     "language": "python",
     "metadata": {},
     "outputs": [],
     "prompt_number": null
    },
    {
     "cell_type": "markdown",
     "metadata": {},
     "source": [
      "### Linear regression reminder\n",
      "\n",
      "When we have a response $y$ that is continuous from $-\\infty$ to $\\infty$, we can consider using a linear regression represented by: \n",
      "\n",
      "$$y \\sim \\mathcal{N}(\\mu, \\sigma)$$\n",
      "$$\\mu = \\beta_0 + \\beta_1 X_1 ... \\beta_n X_n$$\n",
      "\n",
      "We read this as: our response is normally distributed around $\\mu$ with a standard deviation of $\\sigma$. The value of $\\mu$ is described by a linear function of explanatory variables $X \\beta$ with a baseline intercept $\\beta_0$.\n",
      "\n",
      "### Link functions\n",
      "\n",
      "In the event you're not modeling a continuous response variable from $-\\infty$ to $\\infty$, you may need to use a link function to transform your response range. For a Poisson distribution, the canonical link function used is the log link. This can be formally described as:\n",
      "\n",
      "$$y \\sim Poi(\\mu)$$\n",
      "$$log(\\mu) = \\beta_0 + \\beta_1 X_1 ... \\beta_n X_n$$\n",
      "$$\\mu = e^{(\\beta_0 + \\beta_1 X_1 ... \\beta_n X_n)}$$\n",
      "\n",
      "This is considered to be a fixed effects model. The $\\beta$ coefficients are estimated across the entire population as opposed to estimating separate parameters for each person (like in the pooled and partially pooled model in Section 3)."
     ]
    },
    {
     "cell_type": "markdown",
     "metadata": {},
     "source": [
      "### Fixed effects Poisson regression\n",
      "\n",
      "To construct a Poisson regression in PyMC3, we need to apply the log link function to $\\mu$.  The underlying data model in PyMC3 uses theano and hence we need to use the theano tensor method `theano.tensor.exp()` as shown below."
     ]
    },
    {
     "cell_type": "code",
     "collapsed": false,
     "input": [
      "X = messages[['is_weekend','day_of_week','message_length','num_participants']].values\n",
      "_, num_X = X.shape\n",
      "\n",
      "with pm.Model() as model:       \n",
      "    intercept = pm.Normal('intercept', mu=0, sd=100)\n",
      "    beta_message_length = pm.Normal('beta_message_length', mu=0, sd=100)\n",
      "    beta_is_weekend = pm.Normal('beta_is_weekend', mu=0, sd=100)\n",
      "    beta_num_participants = pm.Normal('beta_num_participants', mu=0, sd=100)\n",
      "    \n",
      "    mu = tt.exp(intercept \n",
      "                + beta_message_length*messages.message_length \n",
      "                + beta_is_weekend*messages.is_weekend\n",
      "                + beta_num_participants*messages.num_participants)\n",
      "    \n",
      "    y_est = pm.Poisson('y_est', mu=mu, observed=messages['time_delay_seconds'].values)\n",
      "    \n",
      "    start = pm.find_MAP()\n",
      "    step = pm.Metropolis()\n",
      "    trace = pm.sample(200000, step, start=start, progressbar=True)"
     ],
     "language": "python",
     "metadata": {},
     "outputs": [],
     "prompt_number": null
    },
    {
     "cell_type": "code",
     "collapsed": false,
     "input": [
      "_ = pm.traceplot(trace)"
     ],
     "language": "python",
     "metadata": {},
     "outputs": [],
     "prompt_number": null
    },
    {
     "cell_type": "markdown",
     "metadata": {},
     "source": [
      "As you can see from the above results, the baseline intercept $\\beta_0$ has an estimated value of between 2.4 and 2.8. So what does this mean?\n",
      "\n",
      "Unfortunately, interpreting the parameters of a Poisson regression is more involved than a simple linear regression (y = $\\beta$ x). In this linear regression, we could say for every unit increase in x, $\\hat{y}$ increases by $\\beta$. However, in the Poisson regression we need to consider the link function. The [following cross validated post](http://stats.stackexchange.com/questions/128926/how-to-interpret-parameter-estimates-in-poisson-glm-results) explains in great detail how we arrive at the below formulation.\n",
      "\n",
      "> For a Poisson model, given a unit change in $x$, the fitted $\\hat y$ changes by $\\hat y \\left( e^\\beta - 1 \\right)$\n",
      "\n",
      "The main takeaway from this is that the effect of changing x depends on the current value of y. Unlike the simple linear regression, a unit change in x does not cause a consistent change in y.\n",
      "\n",
      "###  Marginal and pairwise density plots\n",
      "\n",
      "The below plot shows the marginal densities (across the diagonal) and the pairwise densities (lower and upper panes). This plot is very useful for understanding how covariates interact with one another. In the above example, we can see that as the number of participants increases, the baseline intercept decreases. "
     ]
    },
    {
     "cell_type": "code",
     "collapsed": false,
     "input": [
      "_ = sns.pairplot(pm.trace_to_dataframe(trace[20000:]), plot_kws={'alpha':.5})"
     ],
     "language": "python",
     "metadata": {},
     "outputs": [],
     "prompt_number": null
    },
    {
     "cell_type": "markdown",
     "metadata": {},
     "source": [
      "### Mixed effects poisson regression\n",
      "\n",
      "We can make a small extension to the above model by including a random intercept parameter. This will allow us to estimate a baseline parameter value $\\beta_0$ for each person I communicate with. For all other parameters I will estimate a parameter across the entire population. For each person i and each message j, this is formally represented as:\n",
      "\n",
      "$$y_{ji} \\sim Poi(\\mu)$$\n",
      "$$\\mu = \\beta_{0_i} + \\beta_1 x_1 ... \\beta_n x_n$$\n",
      "\n",
      "By introducing this random effects parameter $\\beta_0$ for each person i, it allows the model to establish a different baseline for each person responded to - whilst estimating the  effects of the covariates on the response for the entire population."
     ]
    },
    {
     "cell_type": "code",
     "collapsed": false,
     "input": [
      "# Convert categorical variables to integer\n",
      "le = preprocessing.LabelEncoder()\n",
      "participants_idx = le.fit_transform(messages['prev_sender'])\n",
      "participants = le.classes_\n",
      "n_participants = len(participants)\n",
      "\n",
      "with pm.Model() as model:\n",
      "\n",
      "    intercept = pm.Normal('intercept', mu=0, sd=100, shape=n_participants)\n",
      "    slope_message_length = pm.Normal('slope_message_length', mu=0, sd=100)\n",
      "    slope_is_weekend = pm.Normal('slope_is_weekend', mu=0, sd=100)\n",
      "    slope_num_participants = pm.Normal('slope_num_participants', mu=0, sd=100)\n",
      "    \n",
      "    mu = tt.exp(intercept[participants_idx] \n",
      "                + slope_message_length*messages.message_length \n",
      "                + slope_is_weekend*messages.is_weekend\n",
      "                + slope_num_participants*messages.num_participants)\n",
      "    \n",
      "    y_est = pm.Poisson('y_est', mu=mu, observed=messages['time_delay_seconds'].values)\n",
      "    \n",
      "    start = pm.find_MAP()\n",
      "    step = pm.Metropolis()\n",
      "    trace = pm.sample(200000, step, start=start, progressbar=True)"
     ],
     "language": "python",
     "metadata": {},
     "outputs": [],
     "prompt_number": null
    },
    {
     "cell_type": "code",
     "collapsed": false,
     "input": [
      "_ = pm.traceplot(trace[20000:])"
     ],
     "language": "python",
     "metadata": {},
     "outputs": [],
     "prompt_number": null
    },
    {
     "cell_type": "markdown",
     "metadata": {},
     "source": [
      "The interpretation of the above results are interesting:\n",
      "- Each person has a different baseline response rate (as shown in the pooled and partially pooled model in Section 3)\n",
      "- Longer messages take longer to write and typically have longer response times\n",
      "- You are more likely to get a slow response if you message me on the weekend\n",
      "- I tend to reply more quickly to conversations that have multiple people added to it (group  chat)\n",
      "\n",
      "And after accounting for the effect of each covariate on the response, the model estimates the below $\\beta_0$ parameters."
     ]
    },
    {
     "cell_type": "code",
     "collapsed": false,
     "input": [
      "_ = plt.figure(figsize=(5, 6))\n",
      "_ = pm.forestplot(trace[20000:], varnames=['intercept'], ylabels=participants)"
     ],
     "language": "python",
     "metadata": {},
     "outputs": [],
     "prompt_number": null
    },
    {
     "cell_type": "markdown",
     "metadata": {},
     "source": [
      "### References\n",
      "\n",
      "1. [How to interpret parameters of a poisson GLM](http://stats.stackexchange.com/questions/128926/how-to-interpret-parameter-estimates-in-poisson-glm-results)"
     ]
    },
    {
     "cell_type": "code",
     "collapsed": false,
     "input": [
      "# Apply pretty styles\n",
      "from IPython.core.display import HTML\n",
      "\n",
      "def css_styling():\n",
      "    styles = open(\"styles/custom.css\", \"r\").read()\n",
      "    return HTML(styles)\n",
      "css_styling()"
     ],
     "language": "python",
     "metadata": {},
     "outputs": [],
     "prompt_number": null
    }
   ],
   "metadata": {}
  }
 ]
}
