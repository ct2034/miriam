{
 "metadata": {
  "kernelspec": {
   "display_name": "Python 3",
   "language": "python",
   "name": "python3"
  },
  "language_info": {
   "codemirror_mode": {
    "name": "ipython",
    "version": 3
   },
   "file_extension": ".py",
   "mimetype": "text/x-python",
   "name": "python",
   "nbconvert_exporter": "python",
   "pygments_lexer": "ipython3",
   "version": "3.5.2"
  },
  "name": ""
 },
 "nbformat": 3,
 "nbformat_minor": 0,
 "worksheets": [
  {
   "cells": [
    {
     "cell_type": "markdown",
     "metadata": {},
     "source": [
      "## Section 3: Hierarchal modeling\n",
      "A key strength of Bayesian modeling is the easy and flexibility with which one can implement a hierarchical model. This section will implement and compare a pooled & partially pooled model."
     ]
    },
    {
     "cell_type": "code",
     "collapsed": false,
     "input": [
      "import itertools\n",
      "import matplotlib.pyplot as plt\n",
      "import numpy as np\n",
      "import pandas as pd\n",
      "import pymc3 as pm\n",
      "import scipy\n",
      "import scipy.stats as stats\n",
      "import seaborn.apionly as sns\n",
      "\n",
      "from IPython.display import Image\n",
      "from sklearn import preprocessing\n",
      "\n",
      "\n",
      "%matplotlib inline\n",
      "plt.style.use('bmh')\n",
      "colors = ['#348ABD', '#A60628', '#7A68A6', '#467821', '#D55E00', \n",
      "          '#CC79A7', '#56B4E9', '#009E73', '#F0E442', '#0072B2']\n",
      "\n",
      "messages = pd.read_csv('data/hangout_chat_data.csv')"
     ],
     "language": "python",
     "metadata": {},
     "outputs": [],
     "prompt_number": null
    },
    {
     "cell_type": "markdown",
     "metadata": {},
     "source": [
      "### Model Pooling\n",
      "Let's explore a different way of modeling the response time for my hangout conversations. My intuition would suggest that my tendency to reply quickly to a chat depends on who I'm talking to. I might be more likely to respond quickly to my girlfriend than to a distant friend. As such, I could decide to model each conversation independently, estimating parameters $\\mu_i$ and $\\alpha_i$ for each conversation $i$.\n",
      "\n",
      "One consideration we must make, is that some conversations have very few messages compared to others. As such, our estimates of response time for conversations with few messages will have a higher degree of uncertainty than conversations with a large number of messages. The below plot illustrates the discrepancy in sample size per conversation."
     ]
    },
    {
     "cell_type": "code",
     "collapsed": false,
     "input": [
      "ax = messages.groupby('prev_sender')['conversation_id'].size().plot(\n",
      "    kind='bar', figsize=(12,3), title='Number of messages sent per recipient', color=colors[0])\n",
      "_ = ax.set_xlabel('Previous Sender')\n",
      "_ = ax.set_ylabel('Number of messages')\n",
      "_ = plt.xticks(rotation=45)"
     ],
     "language": "python",
     "metadata": {},
     "outputs": [],
     "prompt_number": null
    },
    {
     "cell_type": "markdown",
     "metadata": {},
     "source": [
      "For each message j and each conversation i, we represent the model as:\n",
      "\n",
      "$$y_{ji} \\sim NegBinomial(\\mu_i, \\alpha_i)$$\n",
      "$$\\mu_i = Uniform(0, 100)$$\n",
      "$$\\alpha_i = Uniform(0, 100)$$"
     ]
    },
    {
     "cell_type": "code",
     "collapsed": false,
     "input": [
      "indiv_traces = {}\n",
      "\n",
      "# Convert categorical variables to integer\n",
      "le = preprocessing.LabelEncoder()\n",
      "participants_idx = le.fit_transform(messages['prev_sender'])\n",
      "participants = le.classes_\n",
      "n_participants = len(participants)\n",
      "\n",
      "for p in participants:\n",
      "    with pm.Model() as model:\n",
      "        alpha = pm.Uniform('alpha', lower=0, upper=100)\n",
      "        mu = pm.Uniform('mu', lower=0, upper=100)\n",
      "        \n",
      "        data = messages[messages['prev_sender']==p]['time_delay_seconds'].values\n",
      "        y_est = pm.NegativeBinomial('y_est', mu=mu, alpha=alpha, observed=data)\n",
      "\n",
      "        y_pred = pm.NegativeBinomial('y_pred', mu=mu, alpha=alpha)\n",
      "        \n",
      "        start = pm.find_MAP()\n",
      "        step = pm.Metropolis()\n",
      "        trace = pm.sample(20000, step, start=start, progressbar=True)\n",
      "        \n",
      "        indiv_traces[p] = trace"
     ],
     "language": "python",
     "metadata": {},
     "outputs": [],
     "prompt_number": null
    },
    {
     "cell_type": "code",
     "collapsed": false,
     "input": [
      "fig, axs = plt.subplots(3,2, figsize=(12, 6))\n",
      "axs = axs.ravel()\n",
      "y_left_max = 2\n",
      "y_right_max = 2000\n",
      "x_lim = 60\n",
      "ix = [0,1,2]\n",
      "\n",
      "for i, j, p in zip([0,1,2], [0,2,4], participants[ix]):\n",
      "    axs[j].set_title('Observed: %s' % p)\n",
      "    axs[j].hist(messages[messages['prev_sender']==p]['time_delay_seconds'].values, range=[0, x_lim], bins=x_lim, histtype='stepfilled')\n",
      "    axs[j].set_ylim([0, y_left_max])\n",
      "\n",
      "for i, j, p in zip([0,1,2], [1,3,5], participants[ix]):\n",
      "    axs[j].set_title('Posterior predictive distribution: %s' % p)\n",
      "    axs[j].hist(indiv_traces[p].get_values('y_pred'), range=[0, x_lim], bins=x_lim, histtype='stepfilled', color=colors[1])\n",
      "    axs[j].set_ylim([0, y_right_max])\n",
      "\n",
      "axs[4].set_xlabel('Response time (seconds)')\n",
      "axs[5].set_xlabel('Response time (seconds)')\n",
      "\n",
      "plt.tight_layout()"
     ],
     "language": "python",
     "metadata": {},
     "outputs": [],
     "prompt_number": null
    },
    {
     "cell_type": "markdown",
     "metadata": {},
     "source": [
      "The above plots show the observed data (left) and the posterior predictive distribution (right) for 3 example conversations we modeled. As you can see, the posterior predictive distribution can vary considerably across conversations. This could accurately reflect the characteristics of the conversation or it could be inaccurate due to small sample size.\n",
      "\n",
      "If we combine the posterior predictive distributions across these models, we would expect this to resemble the distribution of the overall dataset observed. Let's perform the posterior predictive check."
     ]
    },
    {
     "cell_type": "code",
     "collapsed": false,
     "input": [
      "combined_y_pred = np.concatenate([v.get_values('y_pred') for k, v in indiv_traces.items()])\n",
      "\n",
      "x_lim = 60\n",
      "y_pred = trace.get_values('y_pred')\n",
      "\n",
      "fig = plt.figure(figsize=(12,6))\n",
      "fig.add_subplot(211)\n",
      "\n",
      "fig.add_subplot(211)\n",
      "\n",
      "_ = plt.hist(combined_y_pred, range=[0, x_lim], bins=x_lim, histtype='stepfilled', color=colors[1])   \n",
      "_ = plt.xlim(1, x_lim)\n",
      "_ = plt.ylim(0, 20000)\n",
      "_ = plt.ylabel('Frequency')\n",
      "_ = plt.title('Posterior predictive distribution')\n",
      "\n",
      "fig.add_subplot(212)\n",
      "\n",
      "_ = plt.hist(messages['time_delay_seconds'].values, range=[0, x_lim], bins=x_lim, histtype='stepfilled')\n",
      "_ = plt.xlim(0, x_lim)\n",
      "_ = plt.xlabel('Response time in seconds')\n",
      "_ = plt.ylim(0, 20)\n",
      "_ = plt.ylabel('Frequency')\n",
      "_ = plt.title('Distribution of observed data')\n",
      "\n",
      "plt.tight_layout()"
     ],
     "language": "python",
     "metadata": {},
     "outputs": [],
     "prompt_number": null
    },
    {
     "cell_type": "markdown",
     "metadata": {},
     "source": [
      "Yes, the posterior predictive distribution resembles the distribution of the observed data. However, I'm concerned that some of the conversations have very little data and hence the estimates are likely to have high variance. One way to mitigate this risk to to share information across conversations - but still estimate $\\mu_i$ for each conversation. We call this partial pooling."
     ]
    },
    {
     "cell_type": "markdown",
     "metadata": {},
     "source": [
      "### Partial pooling\n",
      "Just like in the pooled model, a partially pooled model has paramater values estimated for each conversation i. However, parameters are connected together via hyperparameters. This reflects our belief that my `response_time`'s per conversation have similarities with one another via my own natural tendancy to respond quickly or slowly.\n",
      "\n",
      "$$y_{ji} \\sim NegBinomial(\\mu_i, \\alpha_i)$$\n",
      "\n",
      "Following on from the above example, we will estimate parameter values $(\\mu_i)$ and $(\\alpha_i)$ for a Poisson distribution. Rather than using a uniform prior, I will use a Gamma distribution for both $\\mu$ and $\\sigma$. This will enable me to introduce more prior knowledge into the model as I have certain expectations as to what vales $\\mu$ and $\\sigma$ will be.\n",
      "\n",
      "First, let's have a look at the Gamma distribution. As you can see below, it is very flexible. "
     ]
    },
    {
     "cell_type": "code",
     "collapsed": false,
     "input": [
      "mu = [5,25,50]\n",
      "sd = [3,7,2]\n",
      "\n",
      "plt.figure(figsize=(11,3))\n",
      "_ = plt.title('Gamma distribution')\n",
      "\n",
      "for i, (j, k) in enumerate(zip(mu, sd)):\n",
      "    with pm.Model() as model:\n",
      "        samples = pm.Gamma('gamma', mu=j, sd=k).random(size=10**6)\n",
      "        plt.hist(samples, bins=100, range=(0,60), color=colors[i], alpha=1)\n",
      "\n",
      "_ = plt.legend(['$\\mu$ = %s, $\\sigma$ = %s' % (mu[a], sd[a]) for a in [0,1,2]])"
     ],
     "language": "python",
     "metadata": {},
     "outputs": [],
     "prompt_number": null
    },
    {
     "cell_type": "markdown",
     "metadata": {},
     "source": [
      "The partially pooled model can be formally described by:\n",
      "\n",
      "$$y_{ji} \\sim NegBinomial(\\mu_i, \\alpha_i)$$\n",
      "$$\\mu_i = Gamma(\\mu_\\mu, \\sigma_\\mu)$$\n",
      "$$\\alpha_i = Gamma(\\mu_\\alpha, \\sigma_\\alpha)$$\n",
      "$$\\mu_\\mu = Uniform(0, 60)$$\n",
      "$$\\sigma_\\mu = Uniform(0, 50)$$\n",
      "$$\\mu_\\alpha = Uniform(0, 10)$$\n",
      "$$\\sigma_\\alpha = Uniform(0, 50)$$"
     ]
    },
    {
     "cell_type": "code",
     "collapsed": false,
     "input": [
      "Image('graphics/dag neg poisson gamma hyper.png', width=420)"
     ],
     "language": "python",
     "metadata": {},
     "outputs": [],
     "prompt_number": null
    },
    {
     "cell_type": "code",
     "collapsed": false,
     "input": [
      "with pm.Model() as model:\n",
      "    hyper_alpha_sd = pm.Uniform('hyper_alpha_sd', lower=0, upper=50)\n",
      "    hyper_alpha_mu = pm.Uniform('hyper_alpha_mu', lower=0, upper=10)\n",
      "    \n",
      "    hyper_mu_sd = pm.Uniform('hyper_mu_sd', lower=0, upper=50)\n",
      "    hyper_mu_mu = pm.Uniform('hyper_mu_mu', lower=0, upper=60)\n",
      "    \n",
      "    alpha = pm.Gamma('alpha', mu=hyper_alpha_mu, sd=hyper_alpha_sd, shape=n_participants)\n",
      "    mu = pm.Gamma('mu', mu=hyper_mu_mu, sd=hyper_mu_sd, shape=n_participants)\n",
      "    \n",
      "    y_est = pm.NegativeBinomial('y_est', \n",
      "                                mu=mu[participants_idx], \n",
      "                                alpha=alpha[participants_idx], \n",
      "                                observed=messages['time_delay_seconds'].values)\n",
      "    \n",
      "    y_pred = pm.NegativeBinomial('y_pred', \n",
      "                                 mu=mu[participants_idx], \n",
      "                                 alpha=alpha[participants_idx],\n",
      "                                 shape=messages['prev_sender'].shape)\n",
      "    \n",
      "    start = pm.find_MAP()\n",
      "    step = pm.Metropolis()\n",
      "    hierarchical_trace = pm.sample(200000, step, progressbar=True)"
     ],
     "language": "python",
     "metadata": {},
     "outputs": [],
     "prompt_number": null
    },
    {
     "cell_type": "code",
     "collapsed": false,
     "input": [
      "_ = pm.traceplot(hierarchical_trace[120000:], \n",
      "                 varnames=['mu','alpha','hyper_mu_mu',\n",
      "                           'hyper_mu_sd','hyper_alpha_mu',\n",
      "                           'hyper_alpha_sd'])"
     ],
     "language": "python",
     "metadata": {},
     "outputs": [],
     "prompt_number": null
    },
    {
     "cell_type": "markdown",
     "metadata": {},
     "source": [
      "You can see for the estimates of $\\mu$ and $\\alpha$ that we have multiple plots - one for each conversation i. The difference between the pooled and the partially pooled model is that the parameters of **the partially pooled model ($\\mu_i$ and $\\alpha_i$) have a hyperparameter that is shared across all conversations i**. This brings two benefits:\n",
      "1. Information is shared across conversations, so **for conversations that have limited sample size, they \"borrow\" knowledge from other conversations** during estimation to help reduce the variance of the estimate\n",
      "2. We get an estimate for each conversation and an overall estimate for all conversations\n",
      "\n",
      "Let's have a quick look at the posterior predictive distribution."
     ]
    },
    {
     "cell_type": "code",
     "collapsed": false,
     "input": [
      "x_lim = 60\n",
      "y_pred = hierarchical_trace.get_values('y_pred')[::1000].ravel()\n",
      "\n",
      "fig = plt.figure(figsize=(12,6))\n",
      "fig.add_subplot(211)\n",
      "\n",
      "fig.add_subplot(211)\n",
      "\n",
      "_ = plt.hist(y_pred, range=[0, x_lim], bins=x_lim, histtype='stepfilled', color=colors[1])   \n",
      "_ = plt.xlim(1, x_lim)\n",
      "_ = plt.ylabel('Frequency')\n",
      "_ = plt.title('Posterior predictive distribution')\n",
      "\n",
      "fig.add_subplot(212)\n",
      "\n",
      "_ = plt.hist(messages['time_delay_seconds'].values, range=[0, x_lim], bins=x_lim, histtype='stepfilled')\n",
      "_ = plt.xlabel('Response time in seconds')\n",
      "_ = plt.ylabel('Frequency')\n",
      "_ = plt.title('Distribution of observed data')\n",
      "\n",
      "plt.tight_layout()"
     ],
     "language": "python",
     "metadata": {},
     "outputs": [],
     "prompt_number": null
    },
    {
     "cell_type": "markdown",
     "metadata": {},
     "source": [
      "### Shrinkage effect: pooled vs hierarchical model\n",
      "As discussed, the partially pooled model shared a hyperparameter for both $\\mu$ and $\\alpha$. By sharing knowledge across conversations, it has the effect of shrinking the estimates closer together - particularly for conversations that have little data.\n",
      "\n",
      "This shrinkage effect is illustrated in the below plot. You can see how the $\\mu$ and $\\alpha$ parameters are drawn together by the effect of the hyperparameter."
     ]
    },
    {
     "cell_type": "code",
     "collapsed": false,
     "input": [
      "hier_mu = hierarchical_trace['mu'][500:].mean(axis=0)\n",
      "hier_alpha = hierarchical_trace['alpha'][500:].mean(axis=0)\n",
      "indv_mu = [indiv_traces[p]['mu'][500:].mean() for p in participants]\n",
      "indv_alpha = [indiv_traces[p]['alpha'][500:].mean() for p in participants]\n",
      "\n",
      "fig = plt.figure(figsize=(8, 6))\n",
      "ax = fig.add_subplot(111, xlabel='mu', ylabel='alpha', \n",
      "                     title='Pooled vs. Partially Pooled Negative Binomial Model', \n",
      "                     xlim=(5, 45), ylim=(0, 10))\n",
      "\n",
      "ax.scatter(indv_mu, indv_alpha, c=colors[5], s=50, label = 'Pooled', zorder=3)\n",
      "ax.scatter(hier_mu, hier_alpha, c=colors[6], s=50, label = 'Partially Pooled', zorder=4)\n",
      "for i in range(len(indv_mu)):  \n",
      "    ax.arrow(indv_mu[i], indv_alpha[i], hier_mu[i] - indv_mu[i], hier_alpha[i] - indv_alpha[i], \n",
      "            fc=\"grey\", ec=\"grey\", length_includes_head=True, alpha=.5, head_width=0)\n",
      "\n",
      "_ = ax.legend()"
     ],
     "language": "python",
     "metadata": {},
     "outputs": [],
     "prompt_number": null
    },
    {
     "cell_type": "markdown",
     "metadata": {},
     "source": [
      "### Asking questions of the posterior\n",
      "Let's start to take advantage of one of the best aspects of Bayesian statistics - the posterior distribution. Unlike frequentist techniques, we get a full posterior distribution as opposed to a single point estimate. In essence, we have a basket full of credible parameter values. This enables us to ask some questions in a fairly natural and intuitive manner.\n",
      "\n",
      "#### What are the chances I'll respond to my friend in less than 10 seconds?\n",
      "To estimate this probability, we can look at the posterior predctive distribution for Timothy & Andrew's `response_time` and check how many of the samples are < 10 seconds. When I first heard of this technique, I thought I misunderstood because it seemed overly simplistic. "
     ]
    },
    {
     "cell_type": "code",
     "collapsed": false,
     "input": [
      "def participant_y_pred(person):\n",
      "    \"\"\"Return posterior predictive for person\"\"\"\n",
      "    ix = np.where(participants == person)[0][0]\n",
      "    return hierarchical_trace['y_pred'][100000:, ix]"
     ],
     "language": "python",
     "metadata": {},
     "outputs": [],
     "prompt_number": null
    },
    {
     "cell_type": "code",
     "collapsed": false,
     "input": [
      "print(\"Here are some samples from Michael's posterior predictive distribution: \\n %s\" % participant_y_pred('Michael Melchger'))"
     ],
     "language": "python",
     "metadata": {},
     "outputs": [],
     "prompt_number": null
    },
    {
     "cell_type": "code",
     "collapsed": false,
     "input": [
      "def person_plotA(person_name):\n",
      "    ix_check = participant_y_pred(person_name) > 10\n",
      "    _ = plt.hist(participant_y_pred(person_name)[~ix_check], range=[0, x_lim], bins=x_lim, histtype='stepfilled', label='<10 seconds')\n",
      "    _ = plt.hist(participant_y_pred(person_name)[ix_check], range=[0, x_lim], bins=x_lim, histtype='stepfilled', label='>10 seconds')\n",
      "    _ = plt.title('Posterior predictive \\ndistribution for %s' % person_name)\n",
      "    _ = plt.xlabel('Response time')\n",
      "    _ = plt.ylabel('Frequency')\n",
      "    _ = plt.legend()\n",
      "\n",
      "def person_plotB(person_name):\n",
      "    x = np.linspace(1, 60, num=60)\n",
      "    num_samples = float(len(participant_y_pred(person_name)))\n",
      "    prob_lt_x = [100*sum(participant_y_pred(person_name) < i)/num_samples for i in x]\n",
      "    _ = plt.plot(x, prob_lt_x, color=colors[4])\n",
      "    _ = plt.fill_between(x, prob_lt_x, color=colors[4], alpha=0.3)\n",
      "    _ = plt.scatter(10, float(100*sum(participant_y_pred(person_name) < 10))/num_samples, s=180, c=colors[4])\n",
      "    _ = plt.title('Probability of responding \\nto %s before time (t)' % person_name)\n",
      "    _ = plt.xlabel('Response time (t)')\n",
      "    _ = plt.ylabel('Cumulative probability t')\n",
      "    _ = plt.ylim(ymin=0, ymax=100)\n",
      "    _ = plt.xlim(xmin=0, xmax=60)\n",
      "\n",
      "fig = plt.figure(figsize=(11,6))\n",
      "_ = fig.add_subplot(221)\n",
      "person_plotA('Michael Melchger')\n",
      "_ = fig.add_subplot(222)\n",
      "person_plotB('Michael Melchger')\n",
      "\n",
      "_ = fig.add_subplot(223)\n",
      "person_plotA('Patrick Oswald')\n",
      "_ = fig.add_subplot(224)\n",
      "person_plotB('Patrick Oswald')\n",
      "\n",
      "plt.tight_layout()"
     ],
     "language": "python",
     "metadata": {},
     "outputs": [],
     "prompt_number": null
    },
    {
     "cell_type": "code",
     "collapsed": false,
     "input": [
      "participant_y_pred('Michael Melchger')"
     ],
     "language": "python",
     "metadata": {},
     "outputs": [],
     "prompt_number": null
    },
    {
     "cell_type": "markdown",
     "metadata": {},
     "source": [
      "I find this methodology to be very intuitive and flexible. The plot above left separates the samples from the posterior predictive in terms of being greater than or less than 10 seconds. We can compute the probability by calculating the proportion of samples that are less than 10. The plot on the right simply computes this probability for each response time value from 0 to 60. So, it looks like Timothy & Andrew have a 38% & 8% chance of being responded to in less than 10 seconds, respectively."
     ]
    },
    {
     "cell_type": "heading",
     "level": 4,
     "metadata": {},
     "source": [
      "How do my friends pair off against each other?"
     ]
    },
    {
     "cell_type": "code",
     "collapsed": false,
     "input": [
      "def prob_persona_faster(persona, personb):\n",
      "    return sum(participant_y_pred(persona) < participant_y_pred(personb))/len(participant_y_pred(persona))\n",
      "\n",
      "print(\"Probability that Patrick is responded to faster than Michael: {:.2%}\".format(prob_persona_faster('Patrick Oswald', 'Michael Melchger')))"
     ],
     "language": "python",
     "metadata": {},
     "outputs": [],
     "prompt_number": null
    },
    {
     "cell_type": "code",
     "collapsed": false,
     "input": [
      "# Create an empty dataframe\n",
      "ab_dist_df = pd.DataFrame(index=participants, columns=participants, dtype=np.float)\n",
      "\n",
      "# populate each cell in dataframe with persona_less_personb()\n",
      "for a, b in itertools.permutations(participants, 2):\n",
      "    ab_dist_df.ix[a, b] = prob_persona_faster(a, b)\n",
      "    \n",
      "# populate the diagonal\n",
      "for a in participants:\n",
      "    ab_dist_df.ix[a, a] = 0.5"
     ],
     "language": "python",
     "metadata": {},
     "outputs": [],
     "prompt_number": null
    },
    {
     "cell_type": "code",
     "collapsed": false,
     "input": [
      "# Plot heatmap\n",
      "f, ax = plt.subplots(figsize=(12, 9))\n",
      "cmap = plt.get_cmap(\"Spectral\")\n",
      "_ = sns.heatmap(ab_dist_df, square=True, cmap=cmap)\n",
      "_ = plt.title('Probability that Person A will be responded to faster than Person B')\n",
      "_ = plt.ylabel('Person A')\n",
      "_ = plt.xlabel('Person B')"
     ],
     "language": "python",
     "metadata": {},
     "outputs": [],
     "prompt_number": null
    },
    {
     "cell_type": "markdown",
     "metadata": {},
     "source": [
      "#### [>> Go to the Next Section](http://nbviewer.ipython.org/github/markdregan/Bayesian-Modelling-in-Python/blob/master/Section%204.%20Bayesian%20regression.ipynb)\n",
      "\n",
      "### References\n",
      "1. [The Best Of Both Worlds: Hierarchical Linear Regression in PyMC3](http://twiecki.github.io/blog/2014/03/17/bayesian-glms-3/) by Thomas Wiecki"
     ]
    },
    {
     "cell_type": "code",
     "collapsed": false,
     "input": [
      "# Apply pretty styles\n",
      "from IPython.core.display import HTML\n",
      "\n",
      "def css_styling():\n",
      "    styles = open(\"styles/custom.css\", \"r\").read()\n",
      "    return HTML(styles)\n",
      "css_styling()"
     ],
     "language": "python",
     "metadata": {},
     "outputs": [],
     "prompt_number": null
    }
   ],
   "metadata": {}
  }
 ]
}
