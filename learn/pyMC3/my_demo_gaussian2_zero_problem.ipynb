{
 "metadata": {
  "kernelspec": {
   "display_name": "Python 3",
   "language": "python",
   "name": "python3"
  },
  "language_info": {
   "codemirror_mode": {
    "name": "ipython",
    "version": 3
   },
   "file_extension": ".py",
   "mimetype": "text/x-python",
   "name": "python",
   "nbconvert_exporter": "python",
   "pygments_lexer": "ipython3",
   "version": "3.5.2"
  },
  "name": ""
 },
 "nbformat": 3,
 "nbformat_minor": 0,
 "worksheets": [
  {
   "cells": [
    {
     "cell_type": "code",
     "collapsed": false,
     "input": [
      "import numpy as np\n",
      "np.random.seed(42)\n",
      "\n",
      "import matplotlib.pyplot as plt\n",
      "import numpy as np\n",
      "import pandas as pd\n",
      "import pymc3 as pm\n",
      "print(pm.__version__)\n",
      "import scipy\n",
      "import scipy.stats as stats\n",
      "import scipy.optimize as opt\n",
      "import statsmodels.api as sm\n",
      "\n",
      "%matplotlib inline\n",
      "plt.style.use('bmh')\n",
      "#plt.rc('text', usetex=True)"
     ],
     "language": "python",
     "metadata": {},
     "outputs": [],
     "prompt_number": null
    },
    {
     "cell_type": "heading",
     "level": 1,
     "metadata": {},
     "source": [
      "Data"
     ]
    },
    {
     "cell_type": "code",
     "collapsed": false,
     "input": [
      "x = np.arange(24)\n",
      "n = 3\n",
      "y_mean = .5\n",
      "y_std = 2\n",
      "y_scale = y_mean**2/y_std\n",
      "y_shape = y_std/y_mean\n",
      "y = np.random.gamma(scale=y_scale, shape=y_shape, size=(len(x),n,n)) + 3 \n",
      "y = y + np.array([np.random.random(size=(n,n))*2 for i in range(len(x))])\n",
      "y[:,1,1] = np.zeros(len(x))\n",
      "for i in range(n):\n",
      "    plt.plot(x, y[:,:,i], '.')\n",
      "plt.figure()\n",
      "bins = 10\n",
      "for i in range(n):\n",
      "    _ = plt.hist(y[:,:,i], bins=bins, alpha=.2)"
     ],
     "language": "python",
     "metadata": {},
     "outputs": [],
     "prompt_number": null
    },
    {
     "cell_type": "heading",
     "level": 1,
     "metadata": {},
     "source": [
      "Model"
     ]
    },
    {
     "cell_type": "code",
     "collapsed": true,
     "input": [
      "last=False\n",
      "def timing(reset=False):\n",
      "    from datetime import datetime\n",
      "    global last\n",
      "    global startt\n",
      "    if reset or not last:\n",
      "        last = datetime.now()\n",
      "        startt = datetime.now()\n",
      "    else:\n",
      "        duration = datetime.now() - last\n",
      "        print('last:',duration.total_seconds(),'s')\n",
      "        print('total:',(datetime.now() - startt).total_seconds(),'s')\n",
      "        last = datetime.now()"
     ],
     "language": "python",
     "metadata": {},
     "outputs": [],
     "prompt_number": null
    },
    {
     "cell_type": "code",
     "collapsed": false,
     "input": [
      "# using old data and simpler model\n",
      "def update_model(alpha_mean, alpha_std, beta_mean, beta_std, y):\n",
      "    with pm.Model() as model:\n",
      "        timing(True)\n",
      "        alpha = pm.Normal('alpha', mu=alpha_mean, sd=alpha_std, shape=(n,n))\n",
      "        print(\"defined alpha vars\")\n",
      "        timing()\n",
      "\n",
      "        beta = pm.Normal('beta', mu=beta_mean, sd=beta_std, shape=(n,n))\n",
      "        print(\"defined beta vars\")\n",
      "        timing()\n",
      "\n",
      "        Y = pm.Normal('Y', mu=alpha, sd=beta, observed=y)\n",
      "        print(\"defined Y\")\n",
      "        timing()\n",
      "\n",
      "        start = pm.find_MAP()    \n",
      "        print(\"found start\")\n",
      "        timing()\n",
      "\n",
      "        step = pm.NUTS()\n",
      "        print(\"set NUTS\")\n",
      "        timing()\n",
      "\n",
      "        trace = pm.sample(500, step, start=start, progressbar=True)\n",
      "        timing()\n",
      "        \n",
      "        return trace\n",
      "        \n",
      "trace = update_model(np.ones([n,n])*2, \n",
      "             np.ones([n,n])*3, \n",
      "             np.ones([n,n])*.1, \n",
      "             np.ones([n,n]),\n",
      "             y)"
     ],
     "language": "python",
     "metadata": {},
     "outputs": [],
     "prompt_number": null
    },
    {
     "cell_type": "code",
     "collapsed": false,
     "input": [
      "pm_params = {'trace': trace,\n",
      "             'varnames': ['alpha', 'beta']}\n",
      "\n",
      "pm.summary(**pm_params)\n",
      "pm.traceplot(**pm_params)"
     ],
     "language": "python",
     "metadata": {},
     "outputs": [],
     "prompt_number": null
    },
    {
     "cell_type": "markdown",
     "metadata": {},
     "source": [
      "*As seen in the straight lines above, MCMC has problems with 0 values and does not walk probperly.*"
     ]
    },
    {
     "cell_type": "code",
     "collapsed": true,
     "input": [],
     "language": "python",
     "metadata": {},
     "outputs": [],
     "prompt_number": null
    }
   ],
   "metadata": {}
  }
 ]
}
