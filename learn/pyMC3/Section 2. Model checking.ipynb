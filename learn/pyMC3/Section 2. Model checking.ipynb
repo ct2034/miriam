{
 "metadata": {
  "kernelspec": {
   "display_name": "Python 3",
   "language": "python",
   "name": "python3"
  },
  "language_info": {
   "codemirror_mode": {
    "name": "ipython",
    "version": 3
   },
   "file_extension": ".py",
   "mimetype": "text/x-python",
   "name": "python",
   "nbconvert_exporter": "python",
   "pygments_lexer": "ipython3",
   "version": "3.5.2"
  },
  "name": ""
 },
 "nbformat": 3,
 "nbformat_minor": 0,
 "worksheets": [
  {
   "cells": [
    {
     "cell_type": "markdown",
     "metadata": {},
     "source": [
      "## Section 2: Model checking\n",
      "In this section, we will look at two techniques that aim to answer:\n",
      "1. Are the model and parameters estimated a good fit for the underlying data?\n",
      "2. Given two separate models, which is a better fit for the underlying data?\n",
      "\n",
      "----\n",
      "\n",
      "### Model Check I: Posterior predictive check\n",
      "One method of checking model fit is called the posterior predictive check. I find this to be a very intuitive technique. You'll recall in the previous section we estimated the parameter $\\mu$ of a Poisson distribution by collecting 200,000 samples from the posterior distribution of $\\mu$. Each of these samples was considered to be a credible parameter value.\n",
      "\n",
      "The posterior predictive check requires one to generate new data from the predicted model. What does that mean? Well, we have estimated 200,000 credible values of $\\mu$ for the Poisson distribution. That means we can construct 200,000 Poisson distributions with these values and then randomly sample from these distributions. This is formally represented as:\n",
      "\n",
      "$$p(\\tilde{y}|y) = \\int p(\\tilde{y}|\\theta) f(\\theta|y) d\\theta$$\n",
      "\n",
      "Conceptually, if the model is a good fit for the underlying data - then the generated data should resemble the original observed data. PyMC provides a convenient way to sample from the fitted model. You may have noticed a new line in the above model specification: \n",
      "\n",
      "`y_pred = pm.Poisson('y_pred', mu=mu)`\n",
      "\n",
      "This is almost identical to `y_est` except we do not specify the observed data. PyMC considers this to be a **stochastic node (as opposed to an observed node)** and as the MCMC sampler runs - **it also samples data from `y_est`**.\n",
      "\n",
      "We then plot `y_pred` below and compare it to the observed data `y_est`"
     ]
    },
    {
     "cell_type": "code",
     "collapsed": false,
     "input": [
      "import json\n",
      "import matplotlib.pyplot as plt\n",
      "import numpy as np\n",
      "import pandas as pd\n",
      "import pymc3 as pm\n",
      "import scipy\n",
      "import scipy.stats as stats\n",
      "import statsmodels.api as sm\n",
      "import theano.tensor as tt\n",
      "\n",
      "from IPython.display import Image\n",
      "\n",
      "%matplotlib inline\n",
      "plt.style.use('bmh')\n",
      "colors = ['#348ABD', '#A60628', '#7A68A6', '#467821', '#D55E00', \n",
      "          '#CC79A7', '#56B4E9', '#009E73', '#F0E442', '#0072B2']\n",
      "\n",
      "messages = pd.read_csv('data/hangout_chat_data.csv')"
     ],
     "language": "python",
     "metadata": {},
     "outputs": [],
     "prompt_number": null
    },
    {
     "cell_type": "code",
     "collapsed": false,
     "input": [
      "with pm.Model() as model:\n",
      "    mu = pm.Uniform('mu', lower=0, upper=100)\n",
      "    y_est = pm.Poisson('y_est', mu=mu, observed=messages['time_delay_seconds'].values)\n",
      "\n",
      "    y_pred = pm.Poisson('y_pred', mu=mu)\n",
      "    \n",
      "    start = pm.find_MAP()\n",
      "    step = pm.Metropolis()\n",
      "    trace = pm.sample(200000, step, start=start, progressbar=True)"
     ],
     "language": "python",
     "metadata": {},
     "outputs": [],
     "prompt_number": null
    },
    {
     "cell_type": "code",
     "collapsed": false,
     "input": [
      "x_lim = 60\n",
      "burnin = 50000\n",
      "\n",
      "y_pred = trace[burnin:].get_values('y_pred')\n",
      "mu_mean = trace[burnin:].get_values('mu').mean()\n",
      "\n",
      "fig = plt.figure(figsize=(10,6))\n",
      "fig.add_subplot(211)\n",
      "\n",
      "_ = plt.hist(y_pred, range=[0, x_lim], bins=x_lim, histtype='stepfilled', color=colors[1])   \n",
      "_ = plt.xlim(1, x_lim)\n",
      "_ = plt.ylabel('Frequency')\n",
      "_ = plt.title('Posterior predictive distribution')\n",
      "\n",
      "fig.add_subplot(212)\n",
      "\n",
      "_ = plt.hist(messages['time_delay_seconds'].values, range=[0, x_lim], bins=x_lim, histtype='stepfilled')\n",
      "_ = plt.xlabel('Response time in seconds')\n",
      "_ = plt.ylabel('Frequency')\n",
      "_ = plt.title('Distribution of observed data')\n",
      "\n",
      "plt.tight_layout()"
     ],
     "language": "python",
     "metadata": {},
     "outputs": [],
     "prompt_number": null
    },
    {
     "cell_type": "markdown",
     "metadata": {},
     "source": [
      "### Choosing the right distribution\n",
      "I'm not particularly happy with the above plot. Ideally, I'd like the posterior predictive distribution to somewhat resemble the distribution of the observed data. Intuitively, if we have correctly estimated the parameters of the model, then we should be able to sample similar data from that model. Clearly this is not the case.\n",
      "\n",
      "Perhaps the Poisson distribution is not suitable for this data. One alternative option we have is the **Negative Binomial distribution**. This has very similar characteristics to the Poisson distribution except that it has two parameters ($\\mu$ and $\\alpha$) which enables it to vary its **variance independently of its mean**. Recall that the Poisson distribution has one parameter ($\\mu$) that represents both its mean and its variance."
     ]
    },
    {
     "cell_type": "code",
     "collapsed": false,
     "input": [
      "fig = plt.figure(figsize=(10,5))\n",
      "fig.add_subplot(311)\n",
      "x_lim = 70\n",
      "mu = [15, 40]\n",
      "for i in np.arange(x_lim):\n",
      "    plt.bar(i, stats.poisson.pmf(mu[0], i), color=colors[3])\n",
      "    plt.bar(i, stats.poisson.pmf(mu[1], i), color=colors[4])\n",
      "    \n",
      "_ = plt.xlim(1, x_lim)\n",
      "_ = plt.xlabel('Response time in seconds')\n",
      "_ = plt.ylabel('Probability mass')\n",
      "_ = plt.title('Poisson distribution')\n",
      "_ = plt.legend(['$\\lambda$ = %s' % mu[0],\n",
      "                '$\\lambda$ = %s' % mu[1]])\n",
      "\n",
      "# Scipy takes parameters n & p, not mu & alpha\n",
      "def get_n(mu, alpha):\n",
      "    return 1. / alpha * mu\n",
      "\n",
      "def get_p(mu, alpha):\n",
      "    return get_n(mu, alpha) / (get_n(mu, alpha) + mu)\n",
      "\n",
      "fig.add_subplot(312)\n",
      "\n",
      "a = [.5, .5]\n",
      "\n",
      "for i in np.arange(x_lim):\n",
      "    plt.bar(i, stats.nbinom.pmf(i, n=get_n(mu[0], a[0]), p=get_p(mu[0], a[0])), color=colors[3])\n",
      "    plt.bar(i, stats.nbinom.pmf(i, n=get_n(mu[1], a[1]), p=get_p(mu[1], a[1])), color=colors[4])\n",
      "\n",
      "_ = plt.xlabel('Response time in seconds')\n",
      "_ = plt.ylabel('Probability mass')\n",
      "_ = plt.title('Negative Binomial distribution')\n",
      "_ = plt.legend(['$\\\\mu = %s, \\/ \\\\beta = %s$' % (mu[0], a[0]),\n",
      "                '$\\\\mu = %s, \\/ \\\\beta = %s$' % (mu[1], a[1])])\n",
      "\n",
      "plt.tight_layout()\n",
      "\n",
      "fig.add_subplot(313)\n",
      "\n",
      "a = [4, 2]\n",
      "\n",
      "for i in np.arange(x_lim):\n",
      "    plt.bar(i, stats.nbinom.pmf(i, n=get_n(mu[0], a[0]), p=get_p(mu[0], a[0])), color=colors[3])\n",
      "    plt.bar(i, stats.nbinom.pmf(i, n=get_n(mu[1], a[1]), p=get_p(mu[1], a[1])), color=colors[4])\n",
      "\n",
      "_ = plt.xlabel('Response time in seconds')\n",
      "_ = plt.ylabel('Probability mass')\n",
      "_ = plt.title('Negative Binomial distribution (bigger variance)')\n",
      "_ = plt.legend(['$\\\\mu = %s, \\/ \\\\beta = %s$' % (mu[0], a[0]),\n",
      "                '$\\\\mu = %s, \\/ \\\\beta = %s$' % (mu[1], a[1])])\n",
      "\n",
      "plt.tight_layout()"
     ],
     "language": "python",
     "metadata": {},
     "outputs": [],
     "prompt_number": null
    },
    {
     "cell_type": "markdown",
     "metadata": {},
     "source": [
      "Lets go ahead and estimate the parameters for a Negative Binomial distribution given the same dataset used before. Again, we will use a Uniform distribution **(?!?!?)** to estimate both $\\mu$ and $\\alpha$. The model can be represented as:\n",
      "\n",
      "$$y_{j} \\sim NegBinomial(\\mu, \\alpha)$$\n",
      "$$\\alpha = Exponential(0.2)$$\n",
      "$$\\mu = Uniform(0,100)$$"
     ]
    },
    {
     "cell_type": "code",
     "collapsed": false,
     "input": [
      "Image('graphics/Neg Binomial Dag.png', width=400)"
     ],
     "language": "python",
     "metadata": {},
     "outputs": [],
     "prompt_number": null
    },
    {
     "cell_type": "code",
     "collapsed": false,
     "input": [
      "with pm.Model() as model:\n",
      "    alpha = pm.Exponential('alpha', lam=.2)\n",
      "    mu = pm.Uniform('mu', lower=0, upper=100)\n",
      "    \n",
      "    y_pred = pm.NegativeBinomial('y_pred', mu=mu, alpha=alpha)\n",
      "    y_est = pm.NegativeBinomial('y_est', mu=mu, alpha=alpha, observed=messages['time_delay_seconds'].values)\n",
      "    \n",
      "    start = pm.find_MAP()\n",
      "    step = pm.Metropolis()\n",
      "    trace = pm.sample(200000, step, start=start, progressbar=True)"
     ],
     "language": "python",
     "metadata": {},
     "outputs": [],
     "prompt_number": null
    },
    {
     "cell_type": "code",
     "collapsed": false,
     "input": [
      "_ = pm.traceplot(trace[burnin:], varnames=['alpha', 'mu'])"
     ],
     "language": "python",
     "metadata": {},
     "outputs": [],
     "prompt_number": null
    },
    {
     "cell_type": "markdown",
     "metadata": {},
     "source": [
      "We see the above model has greater uncertainty around the estimation of the mean response time $(\\mu)$ for chat messages:\n",
      "- Poisson: 17.5 to 18.5\n",
      "- Negative Binomial: 16 to 21\n",
      "\n",
      "Additionally, the Negative Binonomial model has an $\\alpha$ parameter of 1.4 to 2.4 which further increases the variance in the estimated parameter $\\mu$. Let's have a look at the posterior preditive distribution and see if it more closely resembles the distribution from the observed data."
     ]
    },
    {
     "cell_type": "code",
     "collapsed": false,
     "input": [
      "x_lim = 60\n",
      "y_pred = trace[burnin:].get_values('y_pred')\n",
      "\n",
      "fig = plt.figure(figsize=(10,6))\n",
      "fig.add_subplot(211)\n",
      "\n",
      "fig.add_subplot(211)\n",
      "\n",
      "_ = plt.hist(y_pred, range=[0, x_lim], bins=x_lim, histtype='stepfilled', color=colors[1])   \n",
      "_ = plt.xlim(1, x_lim)\n",
      "_ = plt.ylabel('Frequency')\n",
      "_ = plt.title('Posterior predictive distribution')\n",
      "\n",
      "fig.add_subplot(212)\n",
      "\n",
      "_ = plt.hist(messages['time_delay_seconds'].values, range=[0, x_lim], bins=x_lim, histtype='stepfilled')\n",
      "_ = plt.xlabel('Response time in seconds')\n",
      "_ = plt.ylabel('Frequency')\n",
      "_ = plt.title('Distribution of observed data')\n",
      "\n",
      "plt.tight_layout()"
     ],
     "language": "python",
     "metadata": {},
     "outputs": [],
     "prompt_number": null
    },
    {
     "cell_type": "markdown",
     "metadata": {},
     "source": [
      "Yes, these two distributions are looking more similar to one another. As per the posterior predictive check, this would suggest that the Negative binomial model is a more appropriate fit for the underlying data. \n",
      "\n",
      "If you find yourself doubting the rigor of this model checking approach, Bayesians have other, more analytical methods. \n",
      "\n",
      "### Model Check II: Bayes Factor\n",
      "Another modeling technique is to compute the Bayes factor. This is an analytical method that aims to compare two models with each other.\n",
      "\n",
      "The Bayes factor was typically a difficult metric to compute because it required integrating over the full joint probability distribution. In a low dimension space, integration is possible but once you begin to model in even modest dimensionality, integrating over the full joint posterior distribution becomes computationally costly and time-consuming.\n",
      "\n",
      "There is an alternative and analogous technique for calculating the Bayes factor. It involves taking your two models for comparison and combining them into a hierarchical model with a model parameter index ($\\tau$). This index will switch between the two models throughout the MCMC process depending on which model it finds more credible. As such, the trace of the model index tells us a lot about the credibility of model M1 over model M2."
     ]
    },
    {
     "cell_type": "code",
     "collapsed": false,
     "input": [
      "Image('graphics/Bayes Factor DAG.png', width=540)"
     ],
     "language": "python",
     "metadata": {},
     "outputs": [],
     "prompt_number": null
    },
    {
     "cell_type": "code",
     "collapsed": false,
     "input": [
      "with pm.Model() as model:\n",
      "    \n",
      "    # Index to true model\n",
      "    prior_model_prob = 0.5\n",
      "    #tau = pm.DiscreteUniform('tau', lower=0, upper=1)\n",
      "    tau = pm.Bernoulli('tau', prior_model_prob)\n",
      "    \n",
      "    # Poisson parameters\n",
      "    mu_p = pm.Uniform('mu_p', 0, 60)\n",
      "\n",
      "    # Negative Binomial parameters\n",
      "    alpha = pm.Exponential('alpha', lam=0.2)\n",
      "    mu_nb = pm.Uniform('mu_nb', lower=0, upper=60)\n",
      "\n",
      "    y_like = pm.DensityDist('y_like',\n",
      "             lambda value: pm.math.switch(tau, \n",
      "                 pm.Poisson.dist(mu_p).logp(value),\n",
      "                 pm.NegativeBinomial.dist(mu_nb, alpha).logp(value)\n",
      "             ),\n",
      "             observed=messages['time_delay_seconds'].values)\n",
      "    \n",
      "    start = pm.find_MAP()\n",
      "    step1 = pm.Metropolis([mu_p, alpha, mu_nb])\n",
      "    step2 = pm.ElemwiseCategorical(vars=[tau], values=[0,1])\n",
      "    trace = pm.sample(200000, step=[step1, step2], start=start)\n",
      "\n",
      "_ = pm.traceplot(trace[burnin:], varnames=['tau'])"
     ],
     "language": "python",
     "metadata": {},
     "outputs": [],
     "prompt_number": null
    },
    {
     "cell_type": "markdown",
     "metadata": {},
     "source": [
      "We can calculate the Bayes Factor for the above two models using the below formulation:\n",
      "\n",
      "$$Posterior Odds = Bayes Factor * Prior Odds$$\n",
      "\n",
      "$$\\frac{P(Data \\ | \\ M_{1})}{P(Data \\ | \\ M_{2})} = B.F. \\times \\frac{P(M_{1})}{P(M_{2})}$$\n",
      "\n",
      "In the above example, we didn't apply prior probability to either model, hence the Bayes Factor is simply the quotient of the model likelihoods. If you find that your MCMC sampler is not traversing between the two models, you can introduce prior probabilities that will help you get sufficient exposure to both models."
     ]
    },
    {
     "cell_type": "code",
     "collapsed": false,
     "input": [
      "# Compute the Bayes factor\n",
      "prob_pois = trace[burnin:]['tau'].mean()\n",
      "prob_nb = 1 - prob_pois\n",
      "BF = (prob_nb/prob_pois)*(prior_model_prob/(1-prior_model_prob))\n",
      "print(\"Bayes Factor: %s\" % BF)"
     ],
     "language": "python",
     "metadata": {},
     "outputs": [],
     "prompt_number": null
    },
    {
     "cell_type": "markdown",
     "metadata": {},
     "source": [
      "A **Bayes Factor of >1 suggests that $M_1$ (Negative Binomial) is more strongly supported by the data than $M_2$ (Poisson)**. Jeffreys' scale of evidence for Bayes factors interprets a BF of 1.60 as there being weak evidence of $M_1$ over $M_2$ given the data. Combining the posterior predictive check and Bayes factor I will conclude that the Negative Binomial is a better model for the given data.\n",
      "\n",
      "| Bayes Factor                            | Interpretation                      |\n",
      "|-----------------------------------------|-------------------------------------|\n",
      "| BF($M_1, M_2$) < 1/10       | Strong evidence for $M_2$   |\n",
      "| 1/10 < BF($M_1, M_2$),< 1/3 | Moderate evidence for $M_2$ |\n",
      "| 1/3 < BF($M_1, M_2$) < 1    | Weak evidence for $M_2$     |\n",
      "| 1 < BF($M_1, M_2$) < 3      | Weak evidence for $M_1$     |\n",
      "| 3 < BF($M_1, M_2$) < 10     | Moderate evidence for $M_1$ |\n",
      "| BF($M_1, M_2$) > 10         | Strong evidence for $M_1$   |"
     ]
    },
    {
     "cell_type": "markdown",
     "metadata": {},
     "source": [
      "#### [>> Go to the Next Section](http://nbviewer.ipython.org/github/markdregan/Bayesian-Modelling-in-Python/blob/master/Section%203.%20Hierarchical%20modelling.ipynb)\n",
      "\n",
      "### References\n",
      "1. Jeffreys' scale of evidence, Humboldt University of Berlin. [Link](http://fedc.wiwi.hu-berlin.de/xplore/ebooks/html/csa/node124.html)\n",
      "2. Model checking and diagnostics, PyMC2 Documentation. [Link](https://pymc-devs.github.io/pymc/modelchecking.html)\n",
      "3. Compute Bayes factor using PyMC3, Chris Fonnesbeck. [GitHub Issue](https://github.com/pymc-devs/pymc3/issues/812)\n",
      "4. [Doing Bayesian Data Analysis](http://www.amazon.com/Doing-Bayesian-Analysis-Second-Edition/dp/0124058884/ref=dp_ob_title_bk) by John Kruschke"
     ]
    },
    {
     "cell_type": "code",
     "collapsed": false,
     "input": [
      "# Apply pretty styles\n",
      "from IPython.core.display import HTML\n",
      "\n",
      "def css_styling():\n",
      "    styles = open(\"styles/custom.css\", \"r\").read()\n",
      "    return HTML(styles)\n",
      "css_styling()"
     ],
     "language": "python",
     "metadata": {},
     "outputs": [],
     "prompt_number": null
    },
    {
     "cell_type": "code",
     "collapsed": true,
     "input": [],
     "language": "python",
     "metadata": {},
     "outputs": [],
     "prompt_number": null
    }
   ],
   "metadata": {}
  }
 ]
}
