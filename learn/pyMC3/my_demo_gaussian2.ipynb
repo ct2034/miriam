{
 "metadata": {
  "kernelspec": {
   "display_name": "Python 3",
   "language": "python",
   "name": "python3"
  },
  "language_info": {
   "codemirror_mode": {
    "name": "ipython",
    "version": 3
   },
   "file_extension": ".py",
   "mimetype": "text/x-python",
   "name": "python",
   "nbconvert_exporter": "python",
   "pygments_lexer": "ipython3",
   "version": "3.5.2"
  },
  "name": ""
 },
 "nbformat": 3,
 "nbformat_minor": 0,
 "worksheets": [
  {
   "cells": [
    {
     "cell_type": "code",
     "collapsed": false,
     "input": [
      "import numpy as np\n",
      "np.random.seed(42)\n",
      "\n",
      "import matplotlib.pyplot as plt\n",
      "import numpy as np\n",
      "import pandas as pd\n",
      "import pymc3 as pm\n",
      "print(pm.__version__)\n",
      "import scipy\n",
      "import scipy.stats as stats\n",
      "import scipy.optimize as opt\n",
      "import statsmodels.api as sm\n",
      "\n",
      "%matplotlib inline\n",
      "plt.style.use('bmh')\n",
      "#plt.rc('text', usetex=True)"
     ],
     "language": "python",
     "metadata": {},
     "outputs": [],
     "prompt_number": null
    },
    {
     "cell_type": "heading",
     "level": 1,
     "metadata": {},
     "source": [
      "Data"
     ]
    },
    {
     "cell_type": "code",
     "collapsed": false,
     "input": [
      "x = np.arange(100)\n",
      "n = 3\n",
      "y_mean = .5\n",
      "y_std = 2\n",
      "y_scale = y_mean**2/y_std\n",
      "y_shape = y_std/y_mean\n",
      "y = np.random.gamma(scale=y_scale, shape=y_shape, size=(len(x),n,n)) + 3 \n",
      "y = y + np.array([np.random.random(size=(n,n))*2 for i in range(len(x))])\n",
      "for i in range(n):\n",
      "    plt.plot(x, y[:,:,i], '.')\n",
      "plt.figure()\n",
      "bins = 10\n",
      "for i in range(n):\n",
      "    _ = plt.hist(y[:,:,i], bins=bins, alpha=.2)"
     ],
     "language": "python",
     "metadata": {},
     "outputs": [],
     "prompt_number": null
    },
    {
     "cell_type": "heading",
     "level": 1,
     "metadata": {},
     "source": [
      "Model"
     ]
    },
    {
     "cell_type": "code",
     "collapsed": true,
     "input": [
      "last=False\n",
      "def timing(reset=False):\n",
      "    from datetime import datetime\n",
      "    global last\n",
      "    global startt\n",
      "    if reset or not last:\n",
      "        last = datetime.now()\n",
      "        startt = datetime.now()\n",
      "    else:\n",
      "        duration = datetime.now() - last\n",
      "        print('last:',duration.total_seconds(),'s')\n",
      "        print('total:',(datetime.now() - startt).total_seconds(),'s')\n",
      "        last = datetime.now()"
     ],
     "language": "python",
     "metadata": {},
     "outputs": [],
     "prompt_number": null
    },
    {
     "cell_type": "code",
     "collapsed": false,
     "input": [
      "# using old data and simpler model\n",
      "def update_model(alpha_mean, alpha_std, beta_mean, beta_std, y):\n",
      "    with pm.Model() as model:\n",
      "        timing(True)\n",
      "        alpha = pm.Normal('alpha', mu=alpha_mean, sd=alpha_std, shape=(n,n))\n",
      "        print(\"defined alpha vars\")\n",
      "        timing()\n",
      "\n",
      "        beta = pm.Normal('beta', mu=beta_mean, sd=beta_std, shape=(n,n))\n",
      "        print(\"defined beta vars\")\n",
      "        timing()\n",
      "\n",
      "        Y = pm.Normal('Y', mu=alpha, sd=beta, observed=y)\n",
      "        print(\"defined Y\")\n",
      "        timing()\n",
      "\n",
      "        start = pm.find_MAP()    \n",
      "        print(\"found start\")\n",
      "        timing()\n",
      "\n",
      "        step = pm.NUTS()\n",
      "        print(\"set NUTS\")\n",
      "        timing()\n",
      "\n",
      "        trace = pm.sample(500, step, start=start, progressbar=True)\n",
      "        timing()\n",
      "        \n",
      "        return trace\n",
      "        \n",
      "trace = update_model(np.ones([n,n])*2, \n",
      "             np.ones([n,n]), \n",
      "             np.ones([n,n])*.1, \n",
      "             np.ones([n,n]),\n",
      "             y)"
     ],
     "language": "python",
     "metadata": {},
     "outputs": [],
     "prompt_number": null
    },
    {
     "cell_type": "code",
     "collapsed": false,
     "input": [
      "_ = pm.traceplot(trace,\n",
      "                 varnames=['alpha',\n",
      "                           'beta'])"
     ],
     "language": "python",
     "metadata": {},
     "outputs": [],
     "prompt_number": null
    },
    {
     "cell_type": "code",
     "collapsed": false,
     "input": [
      "import matplotlib.mlab as mlab\n",
      "import itertools\n",
      "\n",
      "def plot_model(trace, burnin_factor):\n",
      "    alpha_trace = trace.get_values('alpha')\n",
      "    beta_trace = trace.get_values('beta')\n",
      "\n",
      "    burnin = int(burnin_factor*len(alpha_trace))\n",
      "\n",
      "    alpha_mean = np.mean(alpha_trace[burnin:,:,:], axis = 0)\n",
      "    alpha_std = np.std(alpha_trace[burnin:,:,:], axis = 0)\n",
      "    assert np.shape(alpha_mean) == (n, n), \"Wrong Dimensions\"\n",
      "\n",
      "    beta_mean = np.mean(beta_trace[burnin:,:,:], axis = 0)\n",
      "    beta_std = np.std(beta_trace[burnin:,:,:], axis = 0)\n",
      "\n",
      "    mode = alpha_mean\n",
      "\n",
      "    bins = 50\n",
      "    maxx = 10\n",
      "    pdf_resolution = 100\n",
      "\n",
      "    x = np.linspace(0, maxx, pdf_resolution)\n",
      "\n",
      "    for i, j in itertools.product(range(n), repeat=2):\n",
      "        plt.figure()\n",
      "        m = np.mean(mode[i,j])\n",
      "        plt.plot([m,m], [20,0])\n",
      "        res = scipy.stats.norm.pdf(x=x,  \n",
      "                                   loc=np.mean(alpha_mean[i,j]),\n",
      "                                   scale=np.mean(beta_mean[i,j]))\n",
      "        res = res / pdf_resolution * maxx #  seems to be necessary to get true probabilities\n",
      "        assert np.sum(res)-1 < 1e-6, \"The PDF does not sum to one\"\n",
      "        plt.plot(x, res*100)  \n",
      "\n",
      "        plt.hist(y[:,i,j], bins=bins, range=[0, maxx], alpha=.5)\n",
      "\n",
      "        plt.legend([\"res_mode\", 'res_pdf', 'data'])\n",
      "        plt.title('('+\n",
      "                  str(i)+\n",
      "                  \", \"+\n",
      "                  str(j)+\n",
      "                  '): '+\n",
      "                  'max_p ='+\n",
      "                  str(np.max(res)))\n",
      "    return alpha_mean, alpha_std*2, beta_mean, beta_std*2\n",
      "        \n",
      "alpha_mean, alpha_std, beta_mean, beta_std = plot_model(trace, .2)"
     ],
     "language": "python",
     "metadata": {},
     "outputs": [],
     "prompt_number": null
    },
    {
     "cell_type": "heading",
     "level": 1,
     "metadata": {},
     "source": [
      "altering data ..."
     ]
    },
    {
     "cell_type": "code",
     "collapsed": false,
     "input": [
      "y = np.random.gamma(scale=y_scale, shape=y_shape, size=(len(x),n,n)) + 4\n",
      "y[:,0,0] = y[:,0,0] + 5\n",
      "for i in range(n):\n",
      "    plt.plot(x, y[:,:,i], '.')\n",
      "plt.figure()\n",
      "bins = 10\n",
      "for i in range(n):\n",
      "    _ = plt.hist(y[:,:,i], bins=bins, alpha=.2, range=[0,10])"
     ],
     "language": "python",
     "metadata": {},
     "outputs": [],
     "prompt_number": null
    },
    {
     "cell_type": "code",
     "collapsed": false,
     "input": [
      "# using new data and simpler model\n",
      "trace = update_model(alpha_mean, alpha_std, beta_mean, beta_std, np.concatenate([y,y])"
     ],
     "language": "python",
     "metadata": {},
     "outputs": [],
     "prompt_number": null
    },
    {
     "cell_type": "code",
     "collapsed": false,
     "input": [
      "_ = pm.traceplot(trace, \n",
      "                 varnames=['alpha',\n",
      "                           'beta'])"
     ],
     "language": "python",
     "metadata": {},
     "outputs": [],
     "prompt_number": null
    },
    {
     "cell_type": "code",
     "collapsed": false,
     "input": [
      "alpha_mean, alpha_std, beta_mean, beta_std = plot_model(trace, .2)"
     ],
     "language": "python",
     "metadata": {},
     "outputs": [],
     "prompt_number": null
    },
    {
     "cell_type": "markdown",
     "metadata": {},
     "source": [
      "*Above plot shows the model having trouble adopting to new data fast, which is maybe intended. This can be altered to the multiplyer added to stds of params in **plot_model** method.*\n",
      "Below you can see that this multplyer (2) seems to work well at this example and allows th emodel to adopt after second update."
     ]
    },
    {
     "cell_type": "code",
     "collapsed": false,
     "input": [
      "#trace = update_model(alpha_mean, alpha_std, beta_mean, beta_std, y)\n",
      "#alpha_mean, alpha_std, beta_mean, beta_std = plot_model(trace, .2)"
     ],
     "language": "python",
     "metadata": {},
     "outputs": [],
     "prompt_number": null
    }
   ],
   "metadata": {}
  }
 ]
}
