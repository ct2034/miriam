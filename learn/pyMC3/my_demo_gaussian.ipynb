{
 "metadata": {
  "kernelspec": {
   "display_name": "Python 3",
   "language": "python",
   "name": "python3"
  },
  "language_info": {
   "codemirror_mode": {
    "name": "ipython",
    "version": 3
   },
   "file_extension": ".py",
   "mimetype": "text/x-python",
   "name": "python",
   "nbconvert_exporter": "python",
   "pygments_lexer": "ipython3",
   "version": "3.5.2"
  },
  "name": ""
 },
 "nbformat": 3,
 "nbformat_minor": 0,
 "worksheets": [
  {
   "cells": [
    {
     "cell_type": "code",
     "collapsed": false,
     "input": [
      "import numpy as np\n",
      "np.random.seed(42)\n",
      "\n",
      "import matplotlib.pyplot as plt\n",
      "import numpy as np\n",
      "import pandas as pd\n",
      "import pymc3 as pm\n",
      "import scipy\n",
      "import scipy.stats as stats\n",
      "import scipy.optimize as opt\n",
      "import statsmodels.api as sm\n",
      "\n",
      "%matplotlib inline\n",
      "plt.style.use('bmh')"
     ],
     "language": "python",
     "metadata": {},
     "outputs": [],
     "prompt_number": null
    },
    {
     "cell_type": "heading",
     "level": 1,
     "metadata": {},
     "source": [
      "Data"
     ]
    },
    {
     "cell_type": "code",
     "collapsed": false,
     "input": [
      "x = np.arange(1000)\n",
      "y_mean = 100\n",
      "y_std = 300\n",
      "y = np.random.normal(loc=y_mean, scale=y_std, size=len(x))\n",
      "plt.plot(x, y, '.',\n",
      "         x, np.ones(len(x))*y_mean)\n",
      "plt.figure()\n",
      "_ = plt.hist(y)"
     ],
     "language": "python",
     "metadata": {},
     "outputs": [],
     "prompt_number": null
    },
    {
     "cell_type": "heading",
     "level": 1,
     "metadata": {},
     "source": [
      "Model"
     ]
    },
    {
     "cell_type": "code",
     "collapsed": false,
     "input": [
      "# an pyMC3 model ..\n",
      "with pm.Model() as model:\n",
      "    # starting with uniform distribution\n",
      "    mu = pm.Normal('mu', mu=1, sd=100)\n",
      "    sd = pm.Normal('sd', mu=1, sd=100)\n",
      "          \n",
      "    Y = pm.Normal('Y', mu=mu, sd=sd, observed=y)\n",
      "          \n",
      "    start = pm.find_MAP()    \n",
      "    step = pm.NUTS()\n",
      "    \n",
      "    trace = pm.sample(2000, step, start=start, progressbar=True)"
     ],
     "language": "python",
     "metadata": {},
     "outputs": [],
     "prompt_number": null
    },
    {
     "cell_type": "code",
     "collapsed": false,
     "input": [
      "_ = pm.traceplot(trace, \n",
      "                 varnames=['mu', 'sd'],\n",
      "                 lines={'mu': np.mean(y), 'sd': np.std(y)})\n",
      "_ = pm.autocorrplot(trace)"
     ],
     "language": "python",
     "metadata": {},
     "outputs": [],
     "prompt_number": null
    },
    {
     "cell_type": "code",
     "collapsed": false,
     "input": [
      "import matplotlib.mlab as mlab\n",
      "\n",
      "mu_res = trace.get_values('mu')\n",
      "sd_res = trace.get_values('sd')\n",
      "\n",
      "burnin = int(.2*len(mu_res))\n",
      "\n",
      "_, bins, _ = plt.hist(y, bins=25)\n",
      "res = mlab.normpdf(bins, \n",
      "                   np.mean(mu_res[burnin:]),\n",
      "                   np.mean(sd_res[burnin:]))\n",
      "_ = plt.plot(bins, res*.7e5)\n"
     ],
     "language": "python",
     "metadata": {},
     "outputs": [],
     "prompt_number": null
    },
    {
     "cell_type": "code",
     "collapsed": false,
     "input": [],
     "language": "python",
     "metadata": {},
     "outputs": [],
     "prompt_number": null
    },
    {
     "cell_type": "code",
     "collapsed": true,
     "input": [],
     "language": "python",
     "metadata": {},
     "outputs": [],
     "prompt_number": null
    }
   ],
   "metadata": {}
  }
 ]
}
